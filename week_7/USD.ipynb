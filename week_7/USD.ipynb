{
 "cells": [
  {
   "cell_type": "code",
   "execution_count": 364,
   "metadata": {},
   "outputs": [
    {
     "name": "stdout",
     "output_type": "stream",
     "text": [
      "Once deleted, variables cannot be recovered. Proceed (y/[n])? y\n"
     ]
    }
   ],
   "source": [
    "%reset\n",
    "import pandas as pd\n",
    "import matplotlib.pyplot as plt\n",
    "from numpy import NaN as NaN"
   ]
  },
  {
   "cell_type": "code",
   "execution_count": 372,
   "metadata": {},
   "outputs": [],
   "source": [
    "df = pd.read_excel('usd.xlsx')"
   ]
  },
  {
   "cell_type": "code",
   "execution_count": 373,
   "metadata": {},
   "outputs": [],
   "source": [
    "for i in range(len(df)):\n",
    "    df['Date'] = pd.to_datetime(df['Date'], format = '%d.%m.%y')\n",
    "temp = df.copy()\n",
    "res_df = pd.DataFrame({\n",
    "    'buy_on': NaN,\n",
    "    'b_USD': NaN,\n",
    "    'sell_on': NaN,\n",
    "    's_USD': NaN,\n",
    "    'amount': 1000000,\n",
    "}, index=[0])"
   ]
  },
  {
   "cell_type": "code",
   "execution_count": 374,
   "metadata": {},
   "outputs": [],
   "source": [
    "for j in range(3):\n",
    "    maxi = 0\n",
    "    for i in range(len(df)):\n",
    "        try:\n",
    "            k = 1\n",
    "            while (df.loc[i+k, 'Date'] - df.loc[i, 'Date']).days <= 7 :\n",
    "                if df.loc[i+k, 'USD/KZT'] / df.loc[i, 'USD/KZT'] > maxi:\n",
    "                    maxi = df.loc[i+k, 'USD/KZT'] / df.loc[i, 'USD/KZT']\n",
    "                    buy = df.loc[i, 'Date']\n",
    "                    b_usd = df.loc[i, 'USD/KZT']\n",
    "                    sell = df.loc[i+k, 'Date']\n",
    "                    s_usd = df.loc[i+k, 'USD/KZT'] \n",
    "                k+=1\n",
    "        except:\n",
    "            continue\n",
    "    if buy in res_df.values:\n",
    "        continue\n",
    "    idx_buy = list(df[df['Date']==buy].index)[0]\n",
    "    idx_sell = list(df[df['Date']==sell].index)[0]\n",
    "    df.drop(df.index[idx_buy:idx_sell], inplace=True)\n",
    "    df.reset_index(drop=True, inplace=True)\n",
    "    res_df.loc[len(res_df),:]=[buy, b_usd, sell, s_usd, 0]\n",
    "#     df = df[list(df[df['Date']==sell].index)[0]+1:]"
   ]
  },
  {
   "cell_type": "code",
   "execution_count": 375,
   "metadata": {},
   "outputs": [
    {
     "data": {
      "text/html": [
       "<div>\n",
       "<style scoped>\n",
       "    .dataframe tbody tr th:only-of-type {\n",
       "        vertical-align: middle;\n",
       "    }\n",
       "\n",
       "    .dataframe tbody tr th {\n",
       "        vertical-align: top;\n",
       "    }\n",
       "\n",
       "    .dataframe thead th {\n",
       "        text-align: right;\n",
       "    }\n",
       "</style>\n",
       "<table border=\"1\" class=\"dataframe\">\n",
       "  <thead>\n",
       "    <tr style=\"text-align: right;\">\n",
       "      <th></th>\n",
       "      <th>buy_on</th>\n",
       "      <th>b_USD</th>\n",
       "      <th>sell_on</th>\n",
       "      <th>s_USD</th>\n",
       "      <th>amount</th>\n",
       "    </tr>\n",
       "  </thead>\n",
       "  <tbody>\n",
       "    <tr>\n",
       "      <th>0</th>\n",
       "      <td>NaN</td>\n",
       "      <td>NaN</td>\n",
       "      <td>NaN</td>\n",
       "      <td>NaN</td>\n",
       "      <td>1000000.0</td>\n",
       "    </tr>\n",
       "    <tr>\n",
       "      <th>1</th>\n",
       "      <td>2020-09-02 00:00:00</td>\n",
       "      <td>418.13</td>\n",
       "      <td>2020-09-09 00:00:00</td>\n",
       "      <td>426.06</td>\n",
       "      <td>0.0</td>\n",
       "    </tr>\n",
       "    <tr>\n",
       "      <th>2</th>\n",
       "      <td>2020-06-08 00:00:00</td>\n",
       "      <td>397.44</td>\n",
       "      <td>2020-06-15 00:00:00</td>\n",
       "      <td>404.70</td>\n",
       "      <td>0.0</td>\n",
       "    </tr>\n",
       "    <tr>\n",
       "      <th>3</th>\n",
       "      <td>2020-07-03 00:00:00</td>\n",
       "      <td>405.56</td>\n",
       "      <td>2020-07-10 00:00:00</td>\n",
       "      <td>412.23</td>\n",
       "      <td>0.0</td>\n",
       "    </tr>\n",
       "  </tbody>\n",
       "</table>\n",
       "</div>"
      ],
      "text/plain": [
       "                buy_on   b_USD              sell_on   s_USD     amount\n",
       "0                  NaN     NaN                  NaN     NaN  1000000.0\n",
       "1  2020-09-02 00:00:00  418.13  2020-09-09 00:00:00  426.06        0.0\n",
       "2  2020-06-08 00:00:00  397.44  2020-06-15 00:00:00  404.70        0.0\n",
       "3  2020-07-03 00:00:00  405.56  2020-07-10 00:00:00  412.23        0.0"
      ]
     },
     "execution_count": 375,
     "metadata": {},
     "output_type": "execute_result"
    }
   ],
   "source": [
    "# df[df['Date']==buy].reset_index().loc[0, 'USD/KZT']\n",
    "res_df"
   ]
  },
  {
   "cell_type": "code",
   "execution_count": 376,
   "metadata": {
    "scrolled": true
   },
   "outputs": [
    {
     "data": {
      "text/html": [
       "<div>\n",
       "<style scoped>\n",
       "    .dataframe tbody tr th:only-of-type {\n",
       "        vertical-align: middle;\n",
       "    }\n",
       "\n",
       "    .dataframe tbody tr th {\n",
       "        vertical-align: top;\n",
       "    }\n",
       "\n",
       "    .dataframe thead th {\n",
       "        text-align: right;\n",
       "    }\n",
       "</style>\n",
       "<table border=\"1\" class=\"dataframe\">\n",
       "  <thead>\n",
       "    <tr style=\"text-align: right;\">\n",
       "      <th></th>\n",
       "      <th>buy_on</th>\n",
       "      <th>b_USD</th>\n",
       "      <th>sell_on</th>\n",
       "      <th>s_USD</th>\n",
       "      <th>amount</th>\n",
       "    </tr>\n",
       "  </thead>\n",
       "  <tbody>\n",
       "    <tr>\n",
       "      <th>0</th>\n",
       "      <td>NaN</td>\n",
       "      <td>NaN</td>\n",
       "      <td>NaN</td>\n",
       "      <td>NaN</td>\n",
       "      <td>1.000000e+06</td>\n",
       "    </tr>\n",
       "    <tr>\n",
       "      <th>1</th>\n",
       "      <td>2020-06-08 00:00:00</td>\n",
       "      <td>397.44</td>\n",
       "      <td>2020-06-15 00:00:00</td>\n",
       "      <td>404.70</td>\n",
       "      <td>1.018267e+06</td>\n",
       "    </tr>\n",
       "    <tr>\n",
       "      <th>2</th>\n",
       "      <td>2020-07-03 00:00:00</td>\n",
       "      <td>405.56</td>\n",
       "      <td>2020-07-10 00:00:00</td>\n",
       "      <td>412.23</td>\n",
       "      <td>1.035014e+06</td>\n",
       "    </tr>\n",
       "    <tr>\n",
       "      <th>3</th>\n",
       "      <td>2020-09-02 00:00:00</td>\n",
       "      <td>418.13</td>\n",
       "      <td>2020-09-09 00:00:00</td>\n",
       "      <td>426.06</td>\n",
       "      <td>1.054643e+06</td>\n",
       "    </tr>\n",
       "  </tbody>\n",
       "</table>\n",
       "</div>"
      ],
      "text/plain": [
       "                buy_on   b_USD              sell_on   s_USD        amount\n",
       "0                  NaN     NaN                  NaN     NaN  1.000000e+06\n",
       "1  2020-06-08 00:00:00  397.44  2020-06-15 00:00:00  404.70  1.018267e+06\n",
       "2  2020-07-03 00:00:00  405.56  2020-07-10 00:00:00  412.23  1.035014e+06\n",
       "3  2020-09-02 00:00:00  418.13  2020-09-09 00:00:00  426.06  1.054643e+06"
      ]
     },
     "execution_count": 376,
     "metadata": {},
     "output_type": "execute_result"
    }
   ],
   "source": [
    "res_df.sort_values(by='buy_on', na_position='first', inplace = True)\n",
    "res_df.reset_index(drop=True, inplace=True)\n",
    "for i in range(1, len(res_df)):\n",
    "    res_df.loc[i, 'amount'] = (res_df.loc[i-1, 'amount']/res_df.loc[i, 'b_USD'])*res_df.loc[i, 's_USD']\n",
    "res_df"
   ]
  },
  {
   "cell_type": "code",
   "execution_count": 377,
   "metadata": {},
   "outputs": [
    {
     "data": {
      "image/png": "[encoded data removed]",
      "text/plain": [
       "<Figure size 1080x360 with 1 Axes>"
      ]
     },
     "metadata": {
      "needs_background": "light"
     },
     "output_type": "display_data"
    }
   ],
   "source": [
    "plot_font = {'size': 18}\n",
    "fig = plt.figure(figsize=(15,5))\n",
    "markers_buy = [list(temp[temp['Date']==i].index)[0] for i in res_df.loc[1:,'buy_on']]\n",
    "markers_sell = [list(temp[temp['Date']==i].index)[0] for i in res_df.loc[1:,'sell_on']]\n",
    "plt.plot(temp['Date'],temp['USD/KZT'])\n",
    "plt.plot(temp['Date'],temp['USD/KZT'],'D', markevery=markers_buy, label='Buy')\n",
    "plt.plot(temp['Date'],temp['USD/KZT'],'D', markevery=markers_sell, label='Sell')\n",
    "plt.xlabel('Date', fontdict=plot_font)\n",
    "plt.ylabel('USD/KZT', fontdict=plot_font)\n",
    "plt.grid()\n",
    "plt.legend()\n",
    "plt.show()"
   ]
  },
  {
   "cell_type": "code",
   "execution_count": 378,
   "metadata": {},
   "outputs": [
    {
     "data": {
      "text/plain": [
       "54643.17078116257"
      ]
     },
     "execution_count": 378,
     "metadata": {},
     "output_type": "execute_result"
    }
   ],
   "source": [
    "res_df.loc[len(res_df)-1, 'amount'] - res_df.loc[0, 'amount']"
   ]
  },
  {
   "cell_type": "code",
   "execution_count": null,
   "metadata": {},
   "outputs": [],
   "source": []
  }
 ],
 "metadata": {
  "kernelspec": {
   "display_name": "Python 3",
   "language": "python",
   "name": "python3"
  },
  "language_info": {
   "codemirror_mode": {
    "name": "ipython",
    "version": 3
   },
   "file_extension": ".py",
   "mimetype": "text/x-python",
   "name": "python",
   "nbconvert_exporter": "python",
   "pygments_lexer": "ipython3",
   "version": "3.7.3"
  }
 },
 "nbformat": 4,
 "nbformat_minor": 2
}
